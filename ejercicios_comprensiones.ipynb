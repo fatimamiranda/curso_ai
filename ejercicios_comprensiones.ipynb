{
  "nbformat": 4,
  "nbformat_minor": 0,
  "metadata": {
    "colab": {
      "provenance": [],
      "authorship_tag": "ABX9TyM6A4aRqyP/ayXFMrbqlGkJ",
      "include_colab_link": true
    },
    "kernelspec": {
      "name": "python3",
      "display_name": "Python 3"
    },
    "language_info": {
      "name": "python"
    }
  },
  "cells": [
    {
      "cell_type": "markdown",
      "metadata": {
        "id": "view-in-github",
        "colab_type": "text"
      },
      "source": [
        "<a href=\"https://colab.research.google.com/github/fatimamiranda/curso_ai/blob/main/ejercicios_comprensiones.ipynb\" target=\"_parent\"><img src=\"https://colab.research.google.com/assets/colab-badge.svg\" alt=\"Open In Colab\"/></a>"
      ]
    },
    {
      "cell_type": "code",
      "execution_count": 4,
      "metadata": {
        "colab": {
          "base_uri": "https://localhost:8080/"
        },
        "id": "DMXCHSlTpf1y",
        "outputId": "81201ef4-054f-4662-c384-73542c39430b"
      },
      "outputs": [
        {
          "output_type": "stream",
          "name": "stdout",
          "text": [
            "[2, 8, 4, 20]\n"
          ]
        }
      ],
      "source": [
        "a = [1, -5, 4, 2, -2, 10]\n",
        "b = [2*x for x in a if x > 0]\n",
        "print(b)\n"
      ]
    },
    {
      "cell_type": "code",
      "source": [
        "lista_temp = []"
      ],
      "metadata": {
        "id": "zCnoR_vu2exs"
      },
      "execution_count": null,
      "outputs": []
    }
  ]
}